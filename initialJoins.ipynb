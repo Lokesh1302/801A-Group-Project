{
 "cells": [
  {
   "cell_type": "code",
   "execution_count": 1,
   "metadata": {},
   "outputs": [],
   "source": [
    "import pandas as pd\n",
    "\n",
    "rseg = pd.read_excel(\"/Users/lokeshdogga/Downloads/Project Data/RSEG_01012022_31032022.xlsx\")\n",
    "# print(rseg.head())\n",
    "\n",
    "ekpo = pd.read_excel(\"/Users/lokeshdogga/Downloads/Project Data/EKPO_01012022_31032022.xlsx\")\n",
    "# ekpo.head()\n",
    "\n",
    "# EBELN - Document Number\n",
    "# EBELP - Item Number\n",
    "\n",
    "# EKPO - Purchase Document Item\n"
   ]
  },
  {
   "cell_type": "code",
   "execution_count": 2,
   "metadata": {},
   "outputs": [],
   "source": [
    "# Load RBKP\n",
    "rbkp = pd.read_excel(\"/Users/lokeshdogga/Downloads/Project Data/RBKP_01012022_31032022.xlsx\")\n",
    "\n",
    "# Load BKPF\n",
    "bkpf = pd.read_excel(\"/Users/lokeshdogga/Downloads/Project Data/BKPF_01012022_31032022.xlsx\")\n",
    "\n",
    "# Load BSEG\n",
    "bseg = pd.read_excel(\"/Users/lokeshdogga/Downloads/Project Data/BSEG_01012022_31032022 (1).xlsx\")\n",
    "\n",
    "\n"
   ]
  },
  {
   "cell_type": "code",
   "execution_count": 3,
   "metadata": {},
   "outputs": [],
   "source": [
    "merged_table = pd.merge(rseg, ekpo, on=['EBELN', 'EBELP', 'MANDT'])\n",
    "\n",
    "# Merge merged_table with rbkp\n",
    "merged_table = pd.merge(merged_table, rbkp, on=['BELNR', 'MANDT', 'GJAHR'])"
   ]
  },
  {
   "cell_type": "code",
   "execution_count": 6,
   "metadata": {},
   "outputs": [
    {
     "name": "stdout",
     "output_type": "stream",
     "text": [
      "{'BUDAT', 'MANDT', 'AEDAT', 'BLDAT', 'BELNR', 'CPUDT', 'GJAHR', 'BUKRS'}\n",
      "396270\n",
      "   MANDT_x     BELNR_x  GJAHR_x  BUZEI       EBELN  EBELP  RETDUEDT    AEDAT_x        BANFN  BNFPO      BSTYP         BUKRS KNTTP  KONNR  KTMNG  KTPNR   LGORT        MATKL    MATNR MEINS  NETPR   NETWR  NFABD  NLABD  PEINH      PRDAT  PSTYP    WERKS  ZWERT    BLDAT_x    BUDAT_x    CPUDT_x  FDTAG  REINDAT  VATDATE      WWERT      ZFBDT  ASSIGN_NEXT_DATE  ASSIGN_END_DATE  MANDT_y     BELNR_y  GJAHR_y          BLART    BLDAT_y  MONAT    BUDAT_y    CPUDT_y  RSEG_BELNR  RSEG_GJAHR AEDAT_y         XBLNR         RBKPKEY\n",
      "0      100  1000083207     2022     43  4000017757     20       NaN 2022-03-31  101997088.0     10  Category2  CompanyCode7   NaN    NaN      0      0  5000.0  MatGroup134  MAT1214     M   2.39  458.88    NaN    NaN      1 2022-03-31      0  Plant10      0 2022-04-23 2022-06-16 2022-06-17    NaN      NaN      NaN 2022-06-16 2022-04-23               NaN              NaN      100  1000002067     2022  Documenttype1 2022-01-20      1 2022-01-27 2022-01-27  1000028982        2022     NaT      00931182  10000289822022\n",
      "1      100  1000083207     2022     43  4000017757     20       NaN 2022-03-31  101997088.0     10  Category2  CompanyCode7   NaN    NaN      0      0  5000.0  MatGroup134  MAT1214     M   2.39  458.88    NaN    NaN      1 2022-03-31      0  Plant10      0 2022-04-23 2022-06-16 2022-06-17    NaN      NaN      NaN 2022-06-16 2022-04-23               NaN              NaN      100  1000002068     2022  Documenttype1 2022-01-25      1 2022-01-27 2022-01-27  1000029049        2022     NaT  00161614-627  10000290492022\n",
      "2      100  1000083207     2022     43  4000017757     20       NaN 2022-03-31  101997088.0     10  Category2  CompanyCode7   NaN    NaN      0      0  5000.0  MatGroup134  MAT1214     M   2.39  458.88    NaN    NaN      1 2022-03-31      0  Plant10      0 2022-04-23 2022-06-16 2022-06-17    NaN      NaN      NaN 2022-06-16 2022-04-23               NaN              NaN      100  1000002069     2022  Documenttype1 2022-01-26      1 2022-01-28 2022-01-28  1000029139        2022     NaT      06349459  10000291392022\n",
      "3      100  1000083207     2022     43  4000017757     20       NaN 2022-03-31  101997088.0     10  Category2  CompanyCode7   NaN    NaN      0      0  5000.0  MatGroup134  MAT1214     M   2.39  458.88    NaN    NaN      1 2022-03-31      0  Plant10      0 2022-04-23 2022-06-16 2022-06-17    NaN      NaN      NaN 2022-06-16 2022-04-23               NaN              NaN      100  1000002070     2022  Documenttype1 2022-01-27      2 2022-02-11 2022-02-11  1000070123        2022     NaT  04017150-152  10000701232022\n",
      "4      100  1000083207     2022     43  4000017757     20       NaN 2022-03-31  101997088.0     10  Category2  CompanyCode7   NaN    NaN      0      0  5000.0  MatGroup134  MAT1214     M   2.39  458.88    NaN    NaN      1 2022-03-31      0  Plant10      0 2022-04-23 2022-06-16 2022-06-17    NaN      NaN      NaN 2022-06-16 2022-04-23               NaN              NaN      100  1000002071     2022  Documenttype1 2022-01-25      2 2022-02-11 2022-02-11  1000070125        2022     NaT      44181445  10000701252022\n"
     ]
    }
   ],
   "source": [
    "print(set(merged_table.columns).intersection(set(bkpf.columns)))\n",
    "\n",
    "merged_sample = merged_table.sample(1000)\n",
    "\n",
    "print(bkpf.size)\n",
    "\n",
    "temp = pd.merge(merged_sample, bkpf, on=['BUKRS'])\n",
    "\n",
    "print(temp.head().to_string())\n",
    "\n",
    "# Merge merged_table with bkpf\n",
    "# temp = pd.merge(merged_table, bkpf, on=['BUKRS'])\n",
    "\n",
    "# temp.head()\n",
    "\n",
    "# {'CPUDT', 'BLDAT', 'BUDAT', 'AEDAT', 'BELNR', 'MANDT', 'GJAHR', 'BUKRS'}"
   ]
  }
 ],
 "metadata": {
  "kernelspec": {
   "display_name": "base",
   "language": "python",
   "name": "python3"
  },
  "language_info": {
   "codemirror_mode": {
    "name": "ipython",
    "version": 3
   },
   "file_extension": ".py",
   "mimetype": "text/x-python",
   "name": "python",
   "nbconvert_exporter": "python",
   "pygments_lexer": "ipython3",
   "version": "3.11.5"
  }
 },
 "nbformat": 4,
 "nbformat_minor": 2
}
